{
  "nbformat": 4,
  "nbformat_minor": 0,
  "metadata": {
    "colab": {
      "provenance": [],
      "authorship_tag": "ABX9TyMAvXSoIEMAI1TvbxpeofA8",
      "include_colab_link": true
    },
    "kernelspec": {
      "name": "python3",
      "display_name": "Python 3"
    },
    "language_info": {
      "name": "python"
    }
  },
  "cells": [
    {
      "cell_type": "markdown",
      "metadata": {
        "id": "view-in-github",
        "colab_type": "text"
      },
      "source": [
        "<a href=\"https://colab.research.google.com/github/Ekiiio/hw1/blob/main/Bond_Price_E.ipynb\" target=\"_parent\"><img src=\"https://colab.research.google.com/assets/colab-badge.svg\" alt=\"Open In Colab\"/></a>"
      ]
    },
    {
      "cell_type": "code",
      "execution_count": null,
      "metadata": {
        "id": "UXGPB_1Hbdw5"
      },
      "outputs": [],
      "source": [
        "# getbond Price_E\n",
        "\n",
        "def getBondPrice_E(y, face, couponRate, m, yc):\n",
        "    bondPrice = 0.0\n",
        "    coupon = face * couponRate\n",
        "\n",
        "    for t, y_period in enumerate(yc, start=1):\n",
        "        cash_flow = coupon + face if t == m else coupon\n",
        "        pv_factor = 1 / (1 + y_period) ** t\n",
        "        bondPrice += cash_flow * pv_factor\n",
        "\n",
        "    return bondPrice\n",
        "#Test\n",
        "yc = [0.010, 0.015, 0.020, 0.025, 0.030]\n",
        "face = 2000000\n",
        "couponRate = 0.04\n",
        "m = 5\n",
        "getBondPrice_E(y, face, couponRate, m, yc)"
      ]
    }
  ]
}