{
  "nbformat": 4,
  "nbformat_minor": 0,
  "metadata": {
    "colab": {
      "provenance": [],
      "authorship_tag": "ABX9TyO0mOhIZ622tMEl2pqi7XJd",
      "include_colab_link": true
    },
    "kernelspec": {
      "name": "python3",
      "display_name": "Python 3"
    },
    "language_info": {
      "name": "python"
    }
  },
  "cells": [
    {
      "cell_type": "markdown",
      "metadata": {
        "id": "view-in-github",
        "colab_type": "text"
      },
      "source": [
        "<a href=\"https://colab.research.google.com/github/Ekiiio/hw1/blob/main/getPricebond%20Vector.ipynb\" target=\"_parent\"><img src=\"https://colab.research.google.com/assets/colab-badge.svg\" alt=\"Open In Colab\"/></a>"
      ]
    },
    {
      "cell_type": "code",
      "execution_count": 7,
      "metadata": {
        "id": "eXvyjBmCWDc3",
        "outputId": "dadbc933-91e9-4f67-91f3-086fa6c9a94e",
        "colab": {
          "base_uri": "https://localhost:8080/"
        }
      },
      "outputs": [
        {
          "output_type": "execute_result",
          "data": {
            "text/plain": [
              "0"
            ]
          },
          "metadata": {},
          "execution_count": 7
        }
      ],
      "source": [
        "\n",
        "import numpy as np\n",
        "def getBondPrice(y, face, couponRate, m, ppy=1):\n",
        "    df = 1/(1+y/ppy)\n",
        "    bondPrice = 0\n",
        "    cpn = couponRate*face/ppy\n",
        "\n",
        "    return(bondPrice)\n",
        "\n",
        "\n",
        "# Test values\n",
        "\n",
        "y = 0.03\n",
        "face = 2000000\n",
        "couponRate = 0.04\n",
        "m = 10\n",
        "ppy = 1\n",
        "ppy = 2\n",
        "#<no ppy value passed>\n",
        "getBondPrice(y, face, couponRate, m, ppy)"
      ]
    },
    {
      "cell_type": "code",
      "source": [
        "m=10\n",
        "years=np.arange(1,m+1)\n",
        "years\n",
        "df=1/(1+.03)\n",
        "dfs=df**years\n",
        "dfs\n",
        "\n",
        "cf=dfs*.04*2000000\n",
        "price=sum(cf)+dfs[-1]*2000000\n",
        "price"
      ],
      "metadata": {
        "id": "OVloeMU-XMn7",
        "outputId": "18609891-86b4-49aa-c210-505129fe1ffa",
        "colab": {
          "base_uri": "https://localhost:8080/"
        }
      },
      "execution_count": 9,
      "outputs": [
        {
          "output_type": "execute_result",
          "data": {
            "text/plain": [
              "2170604.056735517"
            ]
          },
          "metadata": {},
          "execution_count": 9
        }
      ]
    }
  ]
}