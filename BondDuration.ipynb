{
  "cells": [
    {
      "cell_type": "markdown",
      "metadata": {
        "id": "view-in-github",
        "colab_type": "text"
      },
      "source": [
        "<a href=\"https://colab.research.google.com/github/Ekiiio/hw1/blob/main/BondDuration.ipynb\" target=\"_parent\"><img src=\"https://colab.research.google.com/assets/colab-badge.svg\" alt=\"Open In Colab\"/></a>"
      ]
    },
    {
      "cell_type": "code",
      "source": [
        "#get Bond Duration\n",
        "\n",
        "def getBondDuration(y, face, couponRate, m, ppy=1):\n",
        "    n = m * ppy\n",
        "    period_rate = y / ppy\n",
        "    coupon = (face * couponRate) / ppy\n",
        "    total_pvcf = 0.0\n",
        "    total_pvcf_t = 0.0\n",
        "\n",
        "    for t in range(1, n + 1):\n",
        "        cash_row = coupon + face if t == n else coupon\n",
        "        pv = 1 / (1 + period_rate) ** t\n",
        "        pvcf = cash_row * pv\n",
        "        total_pvcf += pvcf\n",
        "        total_pvcf_t += pvcf * t\n",
        "\n",
        "    duration = total_pvcf_t / total_pvcf\n",
        "    return duration\n",
        "\n",
        "#Test\n",
        "y = 0.03\n",
        "face = 20000000\n",
        "couponRate = 0.04\n",
        "m = 10\n",
        "ppy = 1\n",
        "print(getBondDuration(y, face, couponRate, m, ppy))"
      ],
      "metadata": {
        "id": "bFT0ip5WbLLV"
      },
      "execution_count": null,
      "outputs": []
    }
  ],
  "metadata": {
    "colab": {
      "toc_visible": true,
      "provenance": [],
      "include_colab_link": true
    },
    "kernelspec": {
      "display_name": "Python 3",
      "name": "python3"
    }
  },
  "nbformat": 4,
  "nbformat_minor": 0
}