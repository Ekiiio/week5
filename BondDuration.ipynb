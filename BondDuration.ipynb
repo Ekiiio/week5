{
  "cells": [
    {
      "cell_type": "markdown",
      "metadata": {
        "id": "view-in-github",
        "colab_type": "text"
      },
      "source": [
        "<a href=\"https://colab.research.google.com/github/Ekiiio/week5/blob/main/BondDuration.ipynb\" target=\"_parent\"><img src=\"https://colab.research.google.com/assets/colab-badge.svg\" alt=\"Open In Colab\"/></a>"
      ]
    },
    {
      "cell_type": "code",
      "source": [
        "import numpy as np\n",
        "\n",
        "def getBondDuration(y, face, couponRate, m, ppy=1):\n",
        "    period_yield = y / ppy\n",
        "    periods = np.arange(1, m * ppy + 1)\n",
        "    discount_factors = (1 / (1 + period_yield)) ** periods\n",
        "    coupon_payment = (couponRate * face) / ppy\n",
        "    bond_price = np.sum(discount_factors * coupon_payment) + (face * discount_factors[-1])\n",
        "\n",
        "    weighted_sum = np.sum(periods * discount_factors * coupon_payment) + (m * ppy * face * discount_factors[-1])\n",
        "    macaulay_duration = weighted_sum / bond_price\n",
        "\n",
        "    return macaulay_duration\n",
        "\n",
        "#Test\n",
        "y = 0.03\n",
        "face = 2000000\n",
        "couponRate = 0.04\n",
        "m = 10\n",
        "ppy = 1\n",
        "\n",
        "# Duration\n",
        "duration = getBondDuration(y, face, couponRate, m, ppy)\n",
        "print (duration)\n"
      ],
      "metadata": {
        "id": "bFT0ip5WbLLV",
        "colab": {
          "base_uri": "https://localhost:8080/"
        },
        "outputId": "b6679026-31fd-4baf-fcb6-f65d29f96d01"
      },
      "execution_count": null,
      "outputs": [
        {
          "output_type": "stream",
          "name": "stdout",
          "text": [
            "8.508690304459574\n"
          ]
        }
      ]
    }
  ],
  "metadata": {
    "colab": {
      "provenance": [],
      "include_colab_link": true
    },
    "kernelspec": {
      "display_name": "Python 3",
      "name": "python3"
    }
  },
  "nbformat": 4,
  "nbformat_minor": 0
}