{
  "nbformat": 4,
  "nbformat_minor": 0,
  "metadata": {
    "colab": {
      "provenance": [],
      "include_colab_link": true
    },
    "kernelspec": {
      "name": "python3",
      "display_name": "Python 3"
    },
    "language_info": {
      "name": "python"
    }
  },
  "cells": [
    {
      "cell_type": "markdown",
      "metadata": {
        "id": "view-in-github",
        "colab_type": "text"
      },
      "source": [
        "<a href=\"https://colab.research.google.com/github/Ekiiio/week5/blob/main/getBondPrice.ipynb\" target=\"_parent\"><img src=\"https://colab.research.google.com/assets/colab-badge.svg\" alt=\"Open In Colab\"/></a>"
      ]
    },
    {
      "cell_type": "code",
      "execution_count": 4,
      "metadata": {
        "colab": {
          "base_uri": "https://localhost:8080/"
        },
        "id": "SMC-bUUN9-gj",
        "outputId": "74709933-5576-4156-fbcf-0580d63dec70"
      },
      "outputs": [
        {
          "output_type": "stream",
          "name": "stdout",
          "text": [
            "2170604.056735517\n"
          ]
        }
      ],
      "source": [
        "import numpy as np\n",
        "\n",
        "def getBondPrice(y, face, couponRate, m, ppy=1):\n",
        "    period_yield = y / ppy\n",
        "    periods = np.arange(1, m * ppy + 1)\n",
        "    discount_factors = (1 / (1 + period_yield)) ** periods\n",
        "    coupon_payment = (couponRate * face) / ppy\n",
        "    bond_price = np.sum(discount_factors * coupon_payment) + (face * discount_factors[-1])\n",
        "    return bond_price\n",
        "\n",
        "#Test\n",
        "y = 0.03\n",
        "face = 2000000\n",
        "couponRate = 0.04\n",
        "m = 10\n",
        "\n",
        "#BondPrice\n",
        "price = getBondPrice(y, face, couponRate, m)\n",
        "print(price)\n",
        "\n"
      ]
    },
    {
      "cell_type": "code",
      "source": [],
      "metadata": {
        "id": "Q2TnPQ8Q6Q8x"
      },
      "execution_count": null,
      "outputs": []
    }
  ]
}