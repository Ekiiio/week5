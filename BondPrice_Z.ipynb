{
  "nbformat": 4,
  "nbformat_minor": 0,
  "metadata": {
    "colab": {
      "provenance": [],
      "authorship_tag": "ABX9TyP50baulUyyjAQbfp9iz2yY",
      "include_colab_link": true
    },
    "kernelspec": {
      "name": "python3",
      "display_name": "Python 3"
    },
    "language_info": {
      "name": "python"
    }
  },
  "cells": [
    {
      "cell_type": "markdown",
      "metadata": {
        "id": "view-in-github",
        "colab_type": "text"
      },
      "source": [
        "<a href=\"https://colab.research.google.com/github/Ekiiio/hw1/blob/main/BondPrice_Z.ipynb\" target=\"_parent\"><img src=\"https://colab.research.google.com/assets/colab-badge.svg\" alt=\"Open In Colab\"/></a>"
      ]
    },
    {
      "cell_type": "code",
      "execution_count": null,
      "metadata": {
        "id": "9JxLUbRObreI"
      },
      "outputs": [],
      "source": [
        "#getbondPrice_Z\n",
        "def getBondPrice_Z(face, couponRate, times, yc):\n",
        "    coupon = face * couponRate\n",
        "    bondPrice = 0.0\n",
        "    max_time = max(times)\n",
        "\n",
        "    for t, y in zip(times, yc):\n",
        "        y_decimal = y / 100\n",
        "        cash_flow = coupon + face if t == max_time else coupon\n",
        "        pv_factor = 1 / (1 + y_decimal) ** t\n",
        "        bondPrice += cash_flow * pv_factor\n",
        "    return bondPrice\n",
        "\n",
        "# Test\n",
        "yc = [1.0, 1.5, 2.0, 2.5, 3.0]\n",
        "times = [1, 1.5, 3, 4, 7]\n",
        "face = 2000000\n",
        "couponRate = 0.04\n",
        "\n",
        "getBondPrice_Z(face, couponRate, times, yc)\n"
      ]
    },
    {
      "cell_type": "markdown",
      "source": [],
      "metadata": {
        "id": "rLpOKiSncKgB"
      }
    }
  ]
}