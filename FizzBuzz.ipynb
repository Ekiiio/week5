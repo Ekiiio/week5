{
  "nbformat": 4,
  "nbformat_minor": 0,
  "metadata": {
    "colab": {
      "provenance": [],
      "include_colab_link": true
    },
    "kernelspec": {
      "name": "python3",
      "display_name": "Python 3"
    },
    "language_info": {
      "name": "python"
    }
  },
  "cells": [
    {
      "cell_type": "markdown",
      "metadata": {
        "id": "view-in-github",
        "colab_type": "text"
      },
      "source": [
        "<a href=\"https://colab.research.google.com/github/Ekiiio/week5/blob/main/FizzBuzz.ipynb\" target=\"_parent\"><img src=\"https://colab.research.google.com/assets/colab-badge.svg\" alt=\"Open In Colab\"/></a>"
      ]
    },
    {
      "cell_type": "code",
      "execution_count": 1,
      "metadata": {
        "colab": {
          "base_uri": "https://localhost:8080/"
        },
        "id": "SMC-bUUN9-gj",
        "outputId": "d785b8b2-33dc-458a-a728-19c74eb9429f"
      },
      "outputs": [
        {
          "output_type": "stream",
          "name": "stdout",
          "text": [
            "61 61\n",
            "62 62\n",
            "63 fizz\n",
            "64 64\n",
            "65 buzz\n",
            "66 fizz\n",
            "67 67\n",
            "68 68\n",
            "69 fizz\n",
            "70 buzz\n",
            "71 71\n",
            "72 fizz\n",
            "73 73\n",
            "74 74\n",
            "75 fizzbuzz\n"
          ]
        }
      ],
      "source": [
        "import numpy as np\n",
        "\n",
        "def FizzBuzz(start, finish):\n",
        "    numvec = np.arange(start, finish)\n",
        "    objvec = np.array(numvec, dtype=object)\n",
        "\n",
        "    objvec[numvec % 3 == 0] = \"fizz\"\n",
        "    objvec[numvec % 5 == 0] = \"buzz\"  、\n",
        "    objvec[(numvec % 3 == 0) & (numvec % 5 == 0)] = \"fizzbuzz\"\n",
        "\n",
        "    return objvec\n",
        "\n",
        "# Test\n",
        "start = 61\n",
        "finish = 76\n",
        "result = FizzBuzz(start, finish)\n",
        "\n",
        "# Print\n",
        "for num, val in zip(np.arange(start, finish), result):\n",
        "    print(num, val)\n"
      ]
    }
  ]
}