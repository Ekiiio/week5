{
  "nbformat": 4,
  "nbformat_minor": 0,
  "metadata": {
    "colab": {
      "provenance": [],
      "include_colab_link": true
    },
    "kernelspec": {
      "name": "python3",
      "display_name": "Python 3"
    },
    "language_info": {
      "name": "python"
    }
  },
  "cells": [
    {
      "cell_type": "markdown",
      "metadata": {
        "id": "view-in-github",
        "colab_type": "text"
      },
      "source": [
        "<a href=\"https://colab.research.google.com/github/Ekiiio/hw1/blob/main/FizzBuzz.ipynb\" target=\"_parent\"><img src=\"https://colab.research.google.com/assets/colab-badge.svg\" alt=\"Open In Colab\"/></a>"
      ]
    },
    {
      "cell_type": "code",
      "execution_count": 9,
      "metadata": {
        "colab": {
          "base_uri": "https://localhost:8080/"
        },
        "id": "SMC-bUUN9-gj",
        "outputId": "ca81797d-da0e-46f0-e8c5-c488042771c4"
      },
      "outputs": [
        {
          "output_type": "stream",
          "name": "stdout",
          "text": [
            "[1]\n",
            "[1, 2]\n",
            "[1, 2, 'fizz', 4]\n",
            "[1, 2, 'fizz', 4, 5]\n",
            "[1, 2, 'fizz', 4, 5, 'fizz', 7]\n",
            "[1, 2, 'fizz', 4, 5, 'fizz', 7, 8]\n",
            "[1, 2, 'fizz', 4, 5, 'fizz', 7, 8, 'fizz', 10]\n",
            "[1, 2, 'fizz', 4, 5, 'fizz', 7, 8, 'fizz', 10, 11]\n",
            "[1, 2, 'fizz', 4, 5, 'fizz', 7, 8, 'fizz', 10, 11, 'fizz', 13]\n",
            "[1, 2, 'fizz', 4, 5, 'fizz', 7, 8, 'fizz', 10, 11, 'fizz', 13, 14]\n",
            "[1, 2, 'fizz', 4, 5, 'fizz', 7, 8, 'fizz', 10, 11, 'fizz', 13, 14, 'fizz']\n",
            "[1, 2, 3, 4, 5, 6, 7, 8, 9, 10, 11, 12, 13, 14, 15]\n"
          ]
        }
      ],
      "source": [
        "#!/usr/bin/env python3\n",
        "# -*- coding: utf-8 -*-\n",
        "\"\"\"\n",
        "Created on Tue Jun 11 21:47:04 2024\n",
        "\n",
        "@author: tleitch\n",
        "\"\"\"\n",
        "\n",
        "# Have this code run for any start and finish values\n",
        "\n",
        "def FizzBuzz(start, finish):\n",
        "    outlist = []\n",
        "    for i in range(start,finish+1):\n",
        "      if i % 3==0 :\n",
        "       outlist.append(\"fizz\")\n",
        "      else:\n",
        "        outlist.append(i)\n",
        "        print(outlist)\n",
        "    return(outlist)\n",
        "\n",
        "print(FizzBuzz(1,15))\n",
        "\n",
        "# Tools: Append to a list\n",
        "\n",
        "myEmptyList = []\n",
        "for i in range(1,16):\n",
        "    myEmptyList.append(i)\n",
        "\n",
        "print(myEmptyList)\n"
      ]
    }
  ]
}